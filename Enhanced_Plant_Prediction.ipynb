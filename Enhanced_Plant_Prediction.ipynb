{
  "nbformat": 4,
  "nbformat_minor": 0,
  "metadata": {
    "colab": {
      "name": "Enhanced Plant Prediction.ipynb",
      "provenance": [],
      "include_colab_link": true
    },
    "kernelspec": {
      "display_name": "Python 3",
      "name": "python3"
    },
    "language_info": {
      "name": "python"
    }
  },
  "cells": [
    {
      "cell_type": "markdown",
      "metadata": {
        "id": "view-in-github",
        "colab_type": "text"
      },
      "source": [
        "<a href=\"https://colab.research.google.com/github/igorlauxen/local_grape_health/blob/main/Enhanced_Plant_Prediction.ipynb\" target=\"_parent\"><img src=\"https://colab.research.google.com/assets/colab-badge.svg\" alt=\"Open In Colab\"/></a>"
      ]
    },
    {
      "cell_type": "markdown",
      "metadata": {
        "id": "DLwYHrz-dRVE"
      },
      "source": [
        "Para conectar kaggle e google driver seguir o tutorial do [Medium: How to fetch kaggle datasets into google colab](https://medium.com/analytics-vidhya/how-to-fetch-kaggle-datasets-into-google-colab-ea682569851a)"
      ]
    },
    {
      "cell_type": "code",
      "metadata": {
        "colab": {
          "base_uri": "https://localhost:8080/"
        },
        "id": "kTHHHE-_dItB",
        "outputId": "ba36e871-fce8-4edb-bb08-dc8f2346aad8"
      },
      "source": [
        "from google.colab import drive\n",
        "drive.mount('/content/gdrive')"
      ],
      "execution_count": 11,
      "outputs": [
        {
          "output_type": "stream",
          "name": "stdout",
          "text": [
            "Mounted at /content/gdrive\n"
          ]
        }
      ]
    },
    {
      "cell_type": "code",
      "metadata": {
        "id": "vf6rhWmldnTZ"
      },
      "source": [
        "import os\n",
        "os.environ['KAGGLE_CONFIG_DIR'] = \"/content/gdrive/MyDrive/kaggle\"\n",
        "# /content/gdrive/My Drive/Kaggle is the path where kaggle.json is present in the Google Drive"
      ],
      "execution_count": 2,
      "outputs": []
    },
    {
      "cell_type": "code",
      "metadata": {
        "colab": {
          "base_uri": "https://localhost:8080/"
        },
        "id": "tYXaxqjydxSB",
        "outputId": "38033482-c323-4437-a6e6-3d4583c3f31e"
      },
      "source": [
        "!ls /content/gdrive/MyDrive/kaggle\n",
        "\n",
        "#changing the working directory\n",
        "%cd /content/gdrive/MyDrive/kaggle\n",
        "#Check the present working directory using pwd command\n",
        "\n",
        "!ls"
      ],
      "execution_count": 12,
      "outputs": [
        {
          "output_type": "stream",
          "name": "stdout",
          "text": [
            "ignore_folder  kaggle.json  label_transform.pkl  plantvillage  PlantVillage\n",
            "/content/gdrive/MyDrive/kaggle\n",
            "ignore_folder  kaggle.json  label_transform.pkl  plantvillage  PlantVillage\n"
          ]
        }
      ]
    },
    {
      "cell_type": "code",
      "metadata": {
        "colab": {
          "base_uri": "https://localhost:8080/"
        },
        "id": "Mp5OD19Neapc",
        "outputId": "13fdf515-f108-4acc-f5e8-e1a9bf752eed"
      },
      "source": [
        "# só execute comando abaixo caso no seu google drie não tenha sido baixado as plantas ainda\n",
        "#!kaggle datasets download -d emmarex/plantdisease"
      ],
      "execution_count": null,
      "outputs": [
        {
          "name": "stdout",
          "output_type": "stream",
          "text": [
            "Downloading plantdisease.zip to /content/gdrive/My Drive/kaggle\n",
            "100% 656M/658M [00:22<00:00, 36.3MB/s]\n",
            "100% 658M/658M [00:22<00:00, 30.2MB/s]\n"
          ]
        }
      ]
    },
    {
      "cell_type": "code",
      "metadata": {
        "id": "5YbqMIPifAE5"
      },
      "source": [
        "# mesmo que passo anterior, caso há tenha sido executado uma vez, nao precisa ocorrer de novo\n",
        "#unzipping the zip files and deleting the zip files\n",
        "#!unzip \\*.zip  && rm *.zip"
      ],
      "execution_count": null,
      "outputs": []
    },
    {
      "cell_type": "markdown",
      "metadata": {
        "id": "J_FT_-lCeX3j"
      },
      "source": [
        "Esse notebook baseia sua implementação em [Plant Disease Detection using Keras](https://www.kaggle.com/emmarex/plant-disease-detection-using-keras/data)\n",
        "\n",
        "Dataset utilizado é [Plant Village Disease](https://www.kaggle.com/emmarex/plantdisease)"
      ]
    },
    {
      "cell_type": "code",
      "metadata": {
        "id": "PrIsRqgGfZyr"
      },
      "source": [
        "import numpy as np\n",
        "import pickle\n",
        "import cv2\n",
        "from os import listdir\n",
        "from sklearn.preprocessing import LabelBinarizer\n",
        "from keras.models import Sequential\n",
        "#from keras.layers.normalization import BatchNormalization\n",
        "from keras.layers import BatchNormalization\n",
        "from keras.layers.convolutional import Conv2D\n",
        "from keras.layers.convolutional import MaxPooling2D\n",
        "from keras.layers.core import Activation, Flatten, Dropout, Dense\n",
        "from keras import backend as K\n",
        "from keras.preprocessing.image import ImageDataGenerator\n",
        "# from keras.optimizers import Adam precisa importar depois como keras.optimizers.Adam segundo https://keras.io/api/optimizers/\n",
        "from keras.preprocessing import image\n",
        "from keras.preprocessing.image import img_to_array\n",
        "from sklearn.preprocessing import MultiLabelBinarizer\n",
        "from sklearn.model_selection import train_test_split\n",
        "import matplotlib.pyplot as plt"
      ],
      "execution_count": 4,
      "outputs": []
    },
    {
      "cell_type": "code",
      "metadata": {
        "id": "ScqkjUCNfxkr"
      },
      "source": [
        "EPOCHS = 25\n",
        "INIT_LR = 1e-3\n",
        "BS = 32\n",
        "default_image_size = tuple((256, 256))\n",
        "image_size = 0\n",
        "# NOTA: essa pasta pode variar de location depdendo de onde der a *cd* anteriormente\n",
        "directory_root = 'plantvillage/'\n",
        "width=256\n",
        "height=256\n",
        "# depth 3 significa considerar RGB\n",
        "depth=3"
      ],
      "execution_count": 5,
      "outputs": []
    },
    {
      "cell_type": "code",
      "metadata": {
        "colab": {
          "base_uri": "https://localhost:8080/"
        },
        "id": "SCu4veCRMa6b",
        "outputId": "48e9e6c8-c2e5-4687-9dd2-fcec59bc9694"
      },
      "source": [
        "!pwd"
      ],
      "execution_count": 6,
      "outputs": [
        {
          "output_type": "stream",
          "name": "stdout",
          "text": [
            "/content\n"
          ]
        }
      ]
    },
    {
      "cell_type": "code",
      "metadata": {
        "id": "w6lVpbDMf0zM"
      },
      "source": [
        "def convert_image_to_array(image_dir):\n",
        "    try:\n",
        "        image = cv2.imread(image_dir)\n",
        "        if image is not None :\n",
        "            image = cv2.resize(image, default_image_size)   \n",
        "            return img_to_array(image)\n",
        "        else :\n",
        "            return np.array([])\n",
        "    except Exception as e:\n",
        "        print(f\"Error : {e}\")\n",
        "        return None"
      ],
      "execution_count": 7,
      "outputs": []
    },
    {
      "cell_type": "code",
      "metadata": {
        "colab": {
          "base_uri": "https://localhost:8080/"
        },
        "id": "7YyOYSDRf4CU",
        "outputId": "29e7b3ca-7a7d-448a-ba5d-aa6dc508d1f2"
      },
      "source": [
        "# o processamento abaixo levar alguns minutos (~15)\n",
        "image_list, label_list = [], []\n",
        "try:\n",
        "    print(\"[INFO] Loading images ...\")\n",
        "    root_dir = listdir(directory_root)\n",
        "    for directory in root_dir :\n",
        "        # remove .DS_Store from list\n",
        "        if directory == \".DS_Store\" :\n",
        "            root_dir.remove(directory)\n",
        "\n",
        "    for plant_folder in root_dir :\n",
        "        print(f\"[INFO] The plant folder is {plant_folder} ...\")\n",
        "        plant_disease_folder_list = listdir(f\"{directory_root}/{plant_folder}\")\n",
        "        print(f\"[INFO] The plant disease folder list is {plant_disease_folder_list} ...\")\n",
        "        for disease_folder in plant_disease_folder_list :\n",
        "            print(f\"[INFO] The disease folder is {disease_folder} ...\")\n",
        "            # remove .DS_Store from list\n",
        "            if disease_folder == \".DS_Store\" :\n",
        "                plant_disease_folder_list.remove(disease_folder)\n",
        "            if disease_folder == \"Tomato_Spider_mites_Two_spotted_spider_mite\":\n",
        "                print(f\"[INFO] Folder {disease_folder} has been ignored ...\")\n",
        "                plant_disease_folder_list.remove(disease_folder)\n",
        "\n",
        "        for plant_disease_folder in plant_disease_folder_list:\n",
        "            print(f\"[INFO] Processing {plant_disease_folder} ...\")\n",
        "            plant_disease_image_list = listdir(f\"{directory_root}/{plant_folder}/{plant_disease_folder}/\")\n",
        "                \n",
        "            for single_plant_disease_image in plant_disease_image_list :\n",
        "                if single_plant_disease_image == \".DS_Store\" :\n",
        "                    plant_disease_image_list.remove(single_plant_disease_image)\n",
        "\n",
        "            for image in plant_disease_image_list[:200]:\n",
        "                image_directory = f\"{directory_root}/{plant_folder}/{plant_disease_folder}/{image}\"\n",
        "                if image_directory.endswith(\".jpg\") == True or image_directory.endswith(\".JPG\") == True:\n",
        "                    image_list.append(convert_image_to_array(image_directory))\n",
        "                    label_list.append(plant_disease_folder)\n",
        "    print(\"[INFO] Image loading completed\")  \n",
        "except Exception as e:\n",
        "    print(f\"Error : {e}\")"
      ],
      "execution_count": 13,
      "outputs": [
        {
          "output_type": "stream",
          "name": "stdout",
          "text": [
            "[INFO] Loading images ...\n",
            "[INFO] The plant folder is PlantVillage ...\n",
            "[INFO] The plant disease folder list is ['Pepper__bell___Bacterial_spot', 'Pepper__bell___healthy', 'Potato___Early_blight', 'Potato___Late_blight', 'Potato___healthy'] ...\n",
            "[INFO] The disease folder is Pepper__bell___Bacterial_spot ...\n",
            "[INFO] The disease folder is Pepper__bell___healthy ...\n",
            "[INFO] The disease folder is Potato___Early_blight ...\n",
            "[INFO] The disease folder is Potato___Late_blight ...\n",
            "[INFO] The disease folder is Potato___healthy ...\n",
            "[INFO] Processing Pepper__bell___Bacterial_spot ...\n",
            "[INFO] Processing Pepper__bell___healthy ...\n",
            "[INFO] Processing Potato___Early_blight ...\n",
            "[INFO] Processing Potato___Late_blight ...\n",
            "[INFO] Processing Potato___healthy ...\n",
            "[INFO] Image loading completed\n"
          ]
        }
      ]
    },
    {
      "cell_type": "code",
      "metadata": {
        "colab": {
          "base_uri": "https://localhost:8080/"
        },
        "id": "dpcs7yDxgWcP",
        "outputId": "19f33bb1-5299-44d8-a3ec-de86a7fba1b6"
      },
      "source": [
        "image_size = len(image_list)\n",
        "print(\"image size is \", image_size)"
      ],
      "execution_count": 14,
      "outputs": [
        {
          "output_type": "stream",
          "name": "stdout",
          "text": [
            "image size is  952\n"
          ]
        }
      ]
    },
    {
      "cell_type": "code",
      "metadata": {
        "id": "7yA09_KSgYq6"
      },
      "source": [
        "label_binarizer = LabelBinarizer()\n",
        "image_labels = label_binarizer.fit_transform(label_list)\n",
        "pickle.dump(label_binarizer,open('label_transform.pkl', 'wb'))\n",
        "n_classes = len(label_binarizer.classes_)"
      ],
      "execution_count": 15,
      "outputs": []
    },
    {
      "cell_type": "markdown",
      "metadata": {
        "id": "oe4O6ODn4FM7"
      },
      "source": [
        "# Nota sobre os dados\n",
        "\n",
        "Afim de aumentar a velocidade de processamento, foi reduzido o dataset para considerar somente batatas e pimentas.\n",
        "\n",
        "Considerando os dados de tomate, o modelo levava mais de 4hrs para treinar, dificuldade testes e validações do grupo"
      ]
    },
    {
      "cell_type": "code",
      "metadata": {
        "colab": {
          "base_uri": "https://localhost:8080/"
        },
        "id": "U5UpmYFxgbBI",
        "outputId": "7577cff2-125c-4be9-a836-36b44089d31c"
      },
      "source": [
        "print(label_binarizer.classes_)"
      ],
      "execution_count": 16,
      "outputs": [
        {
          "output_type": "stream",
          "name": "stdout",
          "text": [
            "['Pepper__bell___Bacterial_spot' 'Pepper__bell___healthy'\n",
            " 'Potato___Early_blight' 'Potato___Late_blight' 'Potato___healthy']\n"
          ]
        }
      ]
    },
    {
      "cell_type": "code",
      "metadata": {
        "id": "ZLXO0ajehNPs"
      },
      "source": [
        "np_image_list = np.array(image_list, dtype=np.float32) / 225.0"
      ],
      "execution_count": 17,
      "outputs": []
    },
    {
      "cell_type": "code",
      "metadata": {
        "id": "wRT_HAoOha7l"
      },
      "source": [
        "print(np_image_list)"
      ],
      "execution_count": null,
      "outputs": []
    },
    {
      "cell_type": "code",
      "metadata": {
        "colab": {
          "base_uri": "https://localhost:8080/"
        },
        "id": "f4ofTg7FhfJp",
        "outputId": "414f85c5-3ad9-4d71-fe2a-26e1df3d1593"
      },
      "source": [
        "print(\"[INFO] Spliting data to train, test\")\n",
        "# o que faz train_test_split?\n",
        "# r: ele dividi o dataset em dados de treino e validação. \n",
        "# O parametro test_size é de 0 a 1 e é o que define o percentual que vai para validação\n",
        "x_train, x_test, y_train, y_test = train_test_split(np_image_list, image_labels, test_size=0.2, random_state = 42) "
      ],
      "execution_count": 18,
      "outputs": [
        {
          "output_type": "stream",
          "name": "stdout",
          "text": [
            "[INFO] Spliting data to train, test\n"
          ]
        }
      ]
    },
    {
      "cell_type": "code",
      "metadata": {
        "id": "1aA7DUt6NacO"
      },
      "source": [
        "tcc_model = Sequential()\n",
        "inputShape = (height, width, depth)\n",
        "chanDim = -1\n",
        "if K.image_data_format() == \"channels_first\":\n",
        "    inputShape = (depth, height, width)\n",
        "    chanDim = 1\n",
        "\n",
        "# tf.keras.layers.Conv2D(filters (32),kernel_size(3,3)\n",
        "# padding pode ser same ou valid. valid: \"valid\" means no padding\n",
        "#   same: results in padding with zeros evenly to the left/right or up/down of the input such that output has the same height/width dimension as the input.\n",
        "# inputShape=(256,256,3): alta resolução com cores\n",
        "\n",
        "# What is activation function? an activation function is needed that looks and acts like a linear function, \n",
        "# but is, in fact, a nonlinear function allowing complex relationships in the data to be learned.\n",
        "# What is Relu? Rectified Linear Unit (ReLU)\n",
        "# linear function that will output the input directly if it is positive, otherwise, it will output zero.\n",
        "\n",
        "# Batch normalization applies a transformation that maintains the mean output close to 0 and the output standard deviation close to 1.\n",
        "# The axis that should be normalized (typically the features axis). \n",
        "# For instance, after a Conv2D layer with data_format=\"channels_first\", set axis=1 in BatchNormalization.\n",
        "tcc_model.add(Conv2D(32, (3, 3), padding=\"same\",input_shape=inputShape))\n",
        "tcc_model.add(Activation(\"relu\"))\n",
        "tcc_model.add(BatchNormalization(axis=chanDim))\n",
        "tcc_model.add(MaxPooling2D(pool_size=(3, 3)))\n",
        "tcc_model.add(Conv2D(64, (3, 3), padding=\"same\"))\n",
        "tcc_model.add(Activation(\"relu\"))\n",
        "tcc_model.add(BatchNormalization(axis=chanDim))\n",
        "tcc_model.add(MaxPooling2D(pool_size=(2, 2)))\n",
        "tcc_model.add(Conv2D(128, (3, 3), padding=\"same\"))\n",
        "tcc_model.add(Activation(\"relu\"))\n",
        "tcc_model.add(BatchNormalization(axis=chanDim))\n",
        "tcc_model.add(MaxPooling2D(pool_size=(2, 2)))\n",
        "tcc_model.add(Dropout(0.1))\n",
        "tcc_model.add(Flatten())\n",
        "tcc_model.add(Dense(1024))\n",
        "tcc_model.add(Activation(\"relu\"))\n",
        "tcc_model.add(BatchNormalization())\n",
        "tcc_model.add(Dropout(0.1))\n",
        "tcc_model.add(Dense(n_classes))\n",
        "# The sigmoid function is used for the two-class logistic regression, \n",
        "# whereas the softmax function is used for the multiclass logistic regression \n",
        "# (a.k.a. MaxEnt, multinomial logistic regression, softmax Regression, Maximum Entropy Classifier).\n",
        "# https://stats.stackexchange.com/questions/233658/softmax-vs-sigmoid-function-in-logistic-classifier\n",
        "# portanto usa-se softmax\n",
        "tcc_model.add(Activation(\"softmax\"))"
      ],
      "execution_count": 33,
      "outputs": []
    },
    {
      "cell_type": "code",
      "metadata": {
        "colab": {
          "base_uri": "https://localhost:8080/"
        },
        "id": "WS2RWRdGTfBP",
        "outputId": "ae919a70-e3b7-4765-af5d-a602d52f005b"
      },
      "source": [
        "from tensorflow import keras\n",
        "\n",
        "# from keras.optimizers import a\n",
        "opt = keras.optimizers.Adam(lr=INIT_LR, decay=INIT_LR / EPOCHS)\n",
        "# distribution\n",
        "tcc_model.compile(loss=\"binary_crossentropy\", optimizer=opt,metrics=[\"accuracy\"])\n",
        "# train the network\n",
        "print(\"[INFO] training network...\")"
      ],
      "execution_count": 34,
      "outputs": [
        {
          "output_type": "stream",
          "name": "stdout",
          "text": [
            "[INFO] training network...\n"
          ]
        },
        {
          "output_type": "stream",
          "name": "stderr",
          "text": [
            "/usr/local/lib/python3.7/dist-packages/keras/optimizer_v2/adam.py:105: UserWarning: The `lr` argument is deprecated, use `learning_rate` instead.\n",
            "  super(Adam, self).__init__(name, **kwargs)\n"
          ]
        }
      ]
    },
    {
      "cell_type": "code",
      "metadata": {
        "colab": {
          "base_uri": "https://localhost:8080/"
        },
        "id": "ctLwr6RJOzNm",
        "outputId": "c973ab7a-9dc8-40e3-f80c-48758f474a4e"
      },
      "source": [
        "tcc_model.summary()"
      ],
      "execution_count": 35,
      "outputs": [
        {
          "output_type": "stream",
          "name": "stdout",
          "text": [
            "Model: \"sequential_3\"\n",
            "_________________________________________________________________\n",
            " Layer (type)                Output Shape              Param #   \n",
            "=================================================================\n",
            " conv2d_9 (Conv2D)           (None, 256, 256, 32)      896       \n",
            "                                                                 \n",
            " activation_15 (Activation)  (None, 256, 256, 32)      0         \n",
            "                                                                 \n",
            " batch_normalization_12 (Bat  (None, 256, 256, 32)     128       \n",
            " chNormalization)                                                \n",
            "                                                                 \n",
            " max_pooling2d_9 (MaxPooling  (None, 85, 85, 32)       0         \n",
            " 2D)                                                             \n",
            "                                                                 \n",
            " conv2d_10 (Conv2D)          (None, 85, 85, 64)        18496     \n",
            "                                                                 \n",
            " activation_16 (Activation)  (None, 85, 85, 64)        0         \n",
            "                                                                 \n",
            " batch_normalization_13 (Bat  (None, 85, 85, 64)       256       \n",
            " chNormalization)                                                \n",
            "                                                                 \n",
            " max_pooling2d_10 (MaxPoolin  (None, 42, 42, 64)       0         \n",
            " g2D)                                                            \n",
            "                                                                 \n",
            " conv2d_11 (Conv2D)          (None, 42, 42, 128)       73856     \n",
            "                                                                 \n",
            " activation_17 (Activation)  (None, 42, 42, 128)       0         \n",
            "                                                                 \n",
            " batch_normalization_14 (Bat  (None, 42, 42, 128)      512       \n",
            " chNormalization)                                                \n",
            "                                                                 \n",
            " max_pooling2d_11 (MaxPoolin  (None, 21, 21, 128)      0         \n",
            " g2D)                                                            \n",
            "                                                                 \n",
            " dropout_6 (Dropout)         (None, 21, 21, 128)       0         \n",
            "                                                                 \n",
            " flatten_3 (Flatten)         (None, 56448)             0         \n",
            "                                                                 \n",
            " dense_6 (Dense)             (None, 1024)              57803776  \n",
            "                                                                 \n",
            " activation_18 (Activation)  (None, 1024)              0         \n",
            "                                                                 \n",
            " batch_normalization_15 (Bat  (None, 1024)             4096      \n",
            " chNormalization)                                                \n",
            "                                                                 \n",
            " dropout_7 (Dropout)         (None, 1024)              0         \n",
            "                                                                 \n",
            " dense_7 (Dense)             (None, 5)                 5125      \n",
            "                                                                 \n",
            " activation_19 (Activation)  (None, 5)                 0         \n",
            "                                                                 \n",
            "=================================================================\n",
            "Total params: 57,907,141\n",
            "Trainable params: 57,904,645\n",
            "Non-trainable params: 2,496\n",
            "_________________________________________________________________\n"
          ]
        }
      ]
    },
    {
      "cell_type": "code",
      "metadata": {
        "id": "FghW2FQTVGvg"
      },
      "source": [
        "tcc_aug = ImageDataGenerator(\n",
        "    rotation_range=25, width_shift_range=0.1,\n",
        "    height_shift_range=0.1, shear_range=0.2, \n",
        "    zoom_range=0.2,horizontal_flip=True, \n",
        "    fill_mode=\"nearest\")"
      ],
      "execution_count": 36,
      "outputs": []
    },
    {
      "cell_type": "code",
      "metadata": {
        "colab": {
          "base_uri": "https://localhost:8080/"
        },
        "id": "JgqxertMOW0c",
        "outputId": "0d797d26-a280-4c49-cd30-5aec839c11ff"
      },
      "source": [
        "# cada epoch demora 10 minutos, processo abaixo demora MUITO\n",
        "tcc_history = tcc_model.fit_generator(\n",
        "    tcc_aug.flow(x_train, y_train, batch_size=BS),\n",
        "    validation_data=(x_test, y_test),\n",
        "    steps_per_epoch=len(x_train) // BS,\n",
        "    epochs=EPOCHS, verbose=2\n",
        "    )"
      ],
      "execution_count": 37,
      "outputs": [
        {
          "output_type": "stream",
          "name": "stderr",
          "text": [
            "/usr/local/lib/python3.7/dist-packages/ipykernel_launcher.py:6: UserWarning: `Model.fit_generator` is deprecated and will be removed in a future version. Please use `Model.fit`, which supports generators.\n",
            "  \n"
          ]
        },
        {
          "output_type": "stream",
          "name": "stdout",
          "text": [
            "Epoch 1/25\n",
            "23/23 - 76s - loss: 0.8320 - accuracy: 0.6571 - val_loss: 0.9393 - val_accuracy: 0.3403 - 76s/epoch - 3s/step\n",
            "Epoch 2/25\n",
            "23/23 - 72s - loss: 0.3808 - accuracy: 0.8080 - val_loss: 4.4349 - val_accuracy: 0.2094 - 72s/epoch - 3s/step\n",
            "Epoch 3/25\n",
            "23/23 - 72s - loss: 0.2609 - accuracy: 0.8422 - val_loss: 5.3066 - val_accuracy: 0.2094 - 72s/epoch - 3s/step\n",
            "Epoch 4/25\n",
            "23/23 - 72s - loss: 0.2054 - accuracy: 0.8546 - val_loss: 5.6928 - val_accuracy: 0.2094 - 72s/epoch - 3s/step\n",
            "Epoch 5/25\n",
            "23/23 - 73s - loss: 0.1831 - accuracy: 0.8793 - val_loss: 5.6930 - val_accuracy: 0.2094 - 73s/epoch - 3s/step\n",
            "Epoch 6/25\n",
            "23/23 - 73s - loss: 0.1513 - accuracy: 0.8999 - val_loss: 5.3905 - val_accuracy: 0.2094 - 73s/epoch - 3s/step\n",
            "Epoch 7/25\n",
            "23/23 - 73s - loss: 0.1329 - accuracy: 0.9095 - val_loss: 4.6245 - val_accuracy: 0.2094 - 73s/epoch - 3s/step\n",
            "Epoch 8/25\n",
            "23/23 - 75s - loss: 0.1123 - accuracy: 0.9204 - val_loss: 4.2947 - val_accuracy: 0.2094 - 75s/epoch - 3s/step\n",
            "Epoch 9/25\n",
            "23/23 - 73s - loss: 0.0902 - accuracy: 0.9451 - val_loss: 2.8598 - val_accuracy: 0.2094 - 73s/epoch - 3s/step\n",
            "Epoch 10/25\n",
            "23/23 - 73s - loss: 0.0949 - accuracy: 0.9424 - val_loss: 1.7813 - val_accuracy: 0.2094 - 73s/epoch - 3s/step\n",
            "Epoch 11/25\n",
            "23/23 - 74s - loss: 0.0860 - accuracy: 0.9451 - val_loss: 2.6855 - val_accuracy: 0.2094 - 74s/epoch - 3s/step\n",
            "Epoch 12/25\n",
            "23/23 - 73s - loss: 0.0796 - accuracy: 0.9369 - val_loss: 1.8908 - val_accuracy: 0.2147 - 73s/epoch - 3s/step\n",
            "Epoch 13/25\n",
            "23/23 - 73s - loss: 0.0958 - accuracy: 0.9150 - val_loss: 0.8632 - val_accuracy: 0.3508 - 73s/epoch - 3s/step\n",
            "Epoch 14/25\n",
            "23/23 - 73s - loss: 0.0887 - accuracy: 0.9369 - val_loss: 2.2664 - val_accuracy: 0.2251 - 73s/epoch - 3s/step\n",
            "Epoch 15/25\n",
            "23/23 - 73s - loss: 0.0680 - accuracy: 0.9506 - val_loss: 1.4829 - val_accuracy: 0.2775 - 73s/epoch - 3s/step\n",
            "Epoch 16/25\n",
            "23/23 - 73s - loss: 0.0620 - accuracy: 0.9534 - val_loss: 1.4813 - val_accuracy: 0.3037 - 73s/epoch - 3s/step\n",
            "Epoch 17/25\n",
            "23/23 - 76s - loss: 0.0729 - accuracy: 0.9410 - val_loss: 1.4039 - val_accuracy: 0.3351 - 76s/epoch - 3s/step\n",
            "Epoch 18/25\n",
            "23/23 - 73s - loss: 0.0562 - accuracy: 0.9671 - val_loss: 0.8017 - val_accuracy: 0.4764 - 73s/epoch - 3s/step\n",
            "Epoch 19/25\n",
            "23/23 - 73s - loss: 0.0467 - accuracy: 0.9726 - val_loss: 0.4936 - val_accuracy: 0.6126 - 73s/epoch - 3s/step\n",
            "Epoch 20/25\n",
            "23/23 - 72s - loss: 0.0600 - accuracy: 0.9465 - val_loss: 0.6241 - val_accuracy: 0.5026 - 72s/epoch - 3s/step\n",
            "Epoch 21/25\n",
            "23/23 - 72s - loss: 0.0470 - accuracy: 0.9643 - val_loss: 0.2343 - val_accuracy: 0.7906 - 72s/epoch - 3s/step\n",
            "Epoch 22/25\n",
            "23/23 - 72s - loss: 0.0528 - accuracy: 0.9602 - val_loss: 0.4319 - val_accuracy: 0.6963 - 72s/epoch - 3s/step\n",
            "Epoch 23/25\n",
            "23/23 - 72s - loss: 0.0450 - accuracy: 0.9726 - val_loss: 0.2816 - val_accuracy: 0.8168 - 72s/epoch - 3s/step\n",
            "Epoch 24/25\n",
            "23/23 - 72s - loss: 0.0331 - accuracy: 0.9781 - val_loss: 0.1422 - val_accuracy: 0.9267 - 72s/epoch - 3s/step\n",
            "Epoch 25/25\n",
            "23/23 - 72s - loss: 0.0485 - accuracy: 0.9616 - val_loss: 0.4737 - val_accuracy: 0.6911 - 72s/epoch - 3s/step\n"
          ]
        }
      ]
    },
    {
      "cell_type": "markdown",
      "metadata": {
        "id": "ubmrSWaTz6aS"
      },
      "source": [
        "# Estrategia\n",
        "\n",
        "segundo o artigo utilizado como base, eles utilizaram as seguintes métricas#\n",
        "\n",
        "1. Camadas: 32 - 64 - 128\n",
        "1. Dropout de 0.1 \n",
        "1. activatio feature ReLU\n",
        "\n",
        "## Resultados previstos antes de refactoring\n",
        "\n",
        "Utilizando a estrutura abaixo\n",
        "\n",
        "```\n",
        "tcc_model = Sequential()\n",
        "inputShape = (height, width, depth)\n",
        "chanDim = -1\n",
        "if K.image_data_format() == \"channels_first\":\n",
        "    inputShape = (depth, height, width)\n",
        "    chanDim = 1\n",
        "tcc_model.add(Conv2D(32, (3, 3), padding=\"same\",input_shape=inputShape))\n",
        "tcc_model.add(Activation(\"relu\"))\n",
        "tcc_model.add(BatchNormalization(axis=chanDim))\n",
        "tcc_model.add(MaxPooling2D(pool_size=(3, 3)))\n",
        "tcc_model.add(Conv2D(64, (3, 3), padding=\"same\"))\n",
        "tcc_model.add(Activation(\"relu\"))\n",
        "tcc_model.add(BatchNormalization(axis=chanDim))\n",
        "tcc_model.add(MaxPooling2D(pool_size=(2, 2)))\n",
        "tcc_model.add(Conv2D(128, (3, 3), padding=\"same\"))\n",
        "tcc_model.add(Activation(\"relu\"))\n",
        "tcc_model.add(BatchNormalization(axis=chanDim))\n",
        "tcc_model.add(MaxPooling2D(pool_size=(2, 2)))\n",
        "tcc_model.add(Dropout(0.1))\n",
        "tcc_model.add(Flatten())\n",
        "tcc_model.add(Dense(1024))\n",
        "tcc_model.add(Activation(\"relu\"))\n",
        "tcc_model.add(BatchNormalization())\n",
        "tcc_model.add(Dropout(0.1))\n",
        "tcc_model.add(Dense(n_classes))\n",
        "tcc_model.add(Activation(\"softmax\"))\n",
        "```\n",
        "\n",
        "O modelo teve uma acurácia alta (90%), porém o val_accuracy (20.94%) baixo nos primeiros 10 ciclos de desenvolvimento, o que significa que esse dataset consegue entender os dados de treino, porém os de validação ele não conseguem interpretar.\n",
        "\n",
        "Após a décima interação, os valores de val_acc sobem para 35%. O que indica que é o modelo esta parcialmente correto, porém precisa de mais interações pra aprendizado.\n",
        "\n",
        "Ao final do treino, o modelo tem uma precisão acima de 70% com os dados de treino, e um inclusive, um dos valores de previsão chega a 92%, um valor considerado bom pela equipe, mas que poderia apresentar melhorias. Próximo ao resultado do estudo.\n",
        "\n",
        "## Referencial\n",
        "\n",
        "Gokulnath B.V., Usha Devi G. Identifying and classifying plant disease using resilient LF-CNN. Publicado em: Elsevier B.V. 29 de março de 2021.\n",
        "\n",
        "# Comparação\n",
        "\n",
        "O modelo empregado por [Tairu Oluwafemi Emmanuel](https://www.kaggle.com/emmarex) em [Plant Disease Detection using Keras](https://www.kaggle.com/emmarex/plant-disease-detection-using-keras/data) apresenta uma camada similar, entretanto, com mais repetições. Por exemplo, o modelo dele adiciona 2 vezes cada camada (32, 64, 128 respectivamente).\n",
        "\n",
        "Assumimos que ele tenha adotado esse comportamento devido a um resultado similar ao que o nosso modelo objeteve"
      ]
    },
    {
      "cell_type": "code",
      "metadata": {
        "id": "rxmM-iclO7AO",
        "colab": {
          "base_uri": "https://localhost:8080/",
          "height": 545
        },
        "outputId": "795696bf-363d-4976-e35a-5fff2dba78e0"
      },
      "source": [
        "accuracy = tcc_history.history['accuracy']\n",
        "val_acc = tcc_history.history['val_accuracy']\n",
        "loss = tcc_history.history['loss']\n",
        "val_loss = tcc_history.history['val_loss']\n",
        "epochs = range(1, len(accuracy) + 1)\n",
        "#Train and validation accuracy\n",
        "plt.plot(epochs, accuracy, 'b', label='Training accurarcy')\n",
        "plt.plot(epochs, val_acc, 'r', label='Validation accurarcy')\n",
        "plt.title('Training and Validation accurarcy')\n",
        "plt.legend()\n",
        "\n",
        "plt.figure()\n",
        "#Train and validation loss\n",
        "plt.plot(epochs, loss, 'b', label='Training loss')\n",
        "plt.plot(epochs, val_loss, 'r', label='Validation loss')\n",
        "plt.title('Training and Validation loss')\n",
        "plt.legend()\n",
        "plt.show()"
      ],
      "execution_count": 39,
      "outputs": [
        {
          "output_type": "display_data",
          "data": {
            "image/png": "[encoded data removed]",
            "text/plain": [
              "<Figure size 432x288 with 1 Axes>"
            ]
          },
          "metadata": {
            "needs_background": "light"
          }
        },
        {
          "output_type": "display_data",
          "data": {
            "image/png": "[encoded data removed]",
            "text/plain": [
              "<Figure size 432x288 with 1 Axes>"
            ]
          },
          "metadata": {
            "needs_background": "light"
          }
        }
      ]
    },
    {
      "cell_type": "markdown",
      "metadata": {
        "id": "ABDBTShGfOot"
      },
      "source": [
        "# Segundo algoritmo KNN\n",
        "\n",
        "\n",
        "[Algoritmo KNN para classificação](https://inferir.com.br/artigos/algoritimo-knn-para-classificacao/)"
      ]
    },
    {
      "cell_type": "code",
      "metadata": {
        "id": "ax4GiYF-wj08"
      },
      "source": [
        "#print(image_list)\n",
        "print(label_list)\n",
        "print(n_classes)"
      ],
      "execution_count": null,
      "outputs": []
    },
    {
      "cell_type": "markdown",
      "metadata": {
        "id": "k2Y5ySCU238q"
      },
      "source": [
        "# Source code\n",
        "\n",
        "Código do site [Your first image classifier](https://www.pyimagesearch.com/2021/04/17/your-first-image-classifier-using-k-nn-to-classify-images/) feito por [Adrian Rosebrock](https://www.pyimagesearch.com/author/adrian/) utilizando o dataset escolhido por esse trabalho"
      ]
    },
    {
      "cell_type": "code",
      "metadata": {
        "id": "_2NSPoTiwgTu"
      },
      "source": [
        "# import the necessary packages\n",
        "import cv2\n",
        "class SimplePreprocessor:\n",
        "\tdef __init__(self, width, height, inter=cv2.INTER_AREA):\n",
        "\t\t# store the target image width, height, and interpolation\n",
        "\t\t# method used when resizing\n",
        "\t\tself.width = width\n",
        "\t\tself.height = height\n",
        "\t\tself.inter = inter\n",
        "\tdef preprocess(self, image):\n",
        "\t\t# resize the image to a fixed size, ignoring the aspect\n",
        "\t\t# ratio\n",
        "\t\treturn cv2.resize(image, (self.width, self.height),\n",
        "\t\t\tinterpolation=self.inter)"
      ],
      "execution_count": 24,
      "outputs": []
    },
    {
      "cell_type": "code",
      "metadata": {
        "id": "2xfA3UXB3BBj"
      },
      "source": [
        "# import the necessary packages\n",
        "import numpy as np\n",
        "import cv2\n",
        "import os\n",
        "class SimpleDatasetLoader:\n",
        "\tdef __init__(self, preprocessors=None):\n",
        "\t\t# store the image preprocessor\n",
        "\t\tself.preprocessors = preprocessors\n",
        "\t\t# if the preprocessors are None, initialize them as an\n",
        "\t\t# empty list\n",
        "\t\tif self.preprocessors is None:\n",
        "\t\t\tself.preprocessors = []\n",
        "      \n",
        "\tdef load(self, imagePaths, verbose=-1):\n",
        "\t\t# initialize the list of features and labels\n",
        "\t\tdata = []\n",
        "\t\tlabels = []\n",
        "\t\t# loop over the input images\n",
        "\t\tfor (i, imagePath) in enumerate(imagePaths):\n",
        "\t\t\t# load the image and extract the class label assuming\n",
        "\t\t\t# that our path has the following format:\n",
        "\t\t\t# /path/to/dataset/{class}/{image}.jpg\n",
        "\t\t\timage = cv2.imread(imagePath)\n",
        "\t\t\tlabel = imagePath.split(os.path.sep)[-2]\n",
        "\t\t\t# check to see if our preprocessors are not None\n",
        "\t\t\tif self.preprocessors is not None:\n",
        "\t\t\t\t# loop over the preprocessors and apply each to\n",
        "\t\t\t\t# the image\n",
        "\t\t\t\tfor p in self.preprocessors:\n",
        "\t\t\t\t\timage = p.preprocess(image)\n",
        "\t\t\t# treat our processed image as a \"feature vector\"\n",
        "\t\t\t# by updating the data list followed by the labels\n",
        "\t\t\tdata.append(image)\n",
        "\t\t\tlabels.append(label)\n",
        "\t\t\t# show an update every `verbose` images\n",
        "\t\t\tif verbose > 0 and i > 0 and (i + 1) % verbose == 0:\n",
        "\t\t\t\tprint(\"[INFO] processed {}/{}\".format(i + 1,\n",
        "\t\t\t\t\tlen(imagePaths)))\n",
        "\t\t# return a tuple of the data and labels\n",
        "\t\treturn (np.array(data), np.array(labels))"
      ],
      "execution_count": 35,
      "outputs": []
    },
    {
      "cell_type": "code",
      "metadata": {
        "id": "vzyNNIMS3IWF"
      },
      "source": [
        "# import the necessary packages\n",
        "from sklearn.neighbors import KNeighborsClassifier\n",
        "from sklearn.preprocessing import LabelEncoder\n",
        "from sklearn.model_selection import train_test_split\n",
        "from sklearn.metrics import classification_report\n",
        "from imutils import paths\n",
        "import argparse"
      ],
      "execution_count": 29,
      "outputs": []
    },
    {
      "cell_type": "code",
      "metadata": {
        "colab": {
          "base_uri": "https://localhost:8080/"
        },
        "id": "il6Dr6s3331A",
        "outputId": "c3dbea0c-3be3-44f8-8957-424c3ea67f0e"
      },
      "source": [
        "# construct the argument parse and parse the arguments\n",
        "#ap = argparse.ArgumentParser()\n",
        "#ap.add_argument(\"-d\", \"--dataset\", required=True,\n",
        "#\thelp=\"path to input dataset\")\n",
        "#ap.add_argument(\"-k\", \"--neighbors\", type=int, default=1,\n",
        "#\thelp=\"# of nearest neighbors for classification\")\n",
        "#ap.add_argument(\"-j\", \"--jobs\", type=int, default=-1,\n",
        "#\thelp=\"# of jobs for k-NN distance (-1 uses all available cores)\")\n",
        "#rgs = vars(ap.parse_args())\n",
        "\n",
        "# grab the list of images that we'll be describing\n",
        "print(\"[INFO] loading images...\")\n",
        "imagePaths = list(paths.list_images( directory_root ))\n",
        "# initialize the image preprocessor, load the dataset from disk,\n",
        "# and reshape the data matrix\n",
        "sp = SimplePreprocessor(32, 32)\n",
        "sdl = SimpleDatasetLoader(preprocessors=[sp])\n",
        "(data, labels) = sdl.load(imagePaths, verbose=500)\n",
        "data = data.reshape((data.shape[0], 3072))\n",
        "# show some information on memory consumption of the images\n",
        "print(\"[INFO] features matrix: {:.1f}MB\".format(\n",
        "\tdata.nbytes / (1024 * 1024.0)))"
      ],
      "execution_count": 36,
      "outputs": [
        {
          "output_type": "stream",
          "name": "stdout",
          "text": [
            "[INFO] loading images...\n",
            "[INFO] processed 500/4627\n",
            "[INFO] processed 1000/4627\n",
            "[INFO] processed 1500/4627\n",
            "[INFO] processed 2000/4627\n",
            "[INFO] processed 2500/4627\n",
            "[INFO] processed 3000/4627\n",
            "[INFO] processed 3500/4627\n",
            "[INFO] processed 4000/4627\n",
            "[INFO] processed 4500/4627\n",
            "[INFO] features matrix: 13.6MB\n"
          ]
        }
      ]
    },
    {
      "cell_type": "code",
      "metadata": {
        "id": "riNBBAyW6qRE"
      },
      "source": [
        "# encode the labels as integers\n",
        "le = LabelEncoder()\n",
        "labels = le.fit_transform(labels)\n",
        "# partition the data into training and testing splits using 75% of\n",
        "# the data for training and the remaining 25% for testing\n",
        "(trainX, testX, trainY, testY) = train_test_split(data, labels,\n",
        "\ttest_size=0.25, random_state=42)"
      ],
      "execution_count": 37,
      "outputs": []
    },
    {
      "cell_type": "code",
      "metadata": {
        "colab": {
          "base_uri": "https://localhost:8080/"
        },
        "id": "u8zAuU3X6ubp",
        "outputId": "45dc74e2-682a-41ad-d421-4b6d740973f6"
      },
      "source": [
        "# train and evaluate a k-NN classifier on the raw pixel intensities\n",
        "print(\"[INFO] evaluating k-NN classifier...\")\n",
        "model = KNeighborsClassifier(n_neighbors=3,\n",
        "\t# -1 use all available sources\n",
        "  n_jobs=-1)\n",
        "model.fit(trainX, trainY)\n",
        "print(classification_report(testY, model.predict(testX),\n",
        "\ttarget_names=le.classes_))"
      ],
      "execution_count": 40,
      "outputs": [
        {
          "output_type": "stream",
          "name": "stdout",
          "text": [
            "[INFO] evaluating k-NN classifier...\n",
            "                               precision    recall  f1-score   support\n",
            "\n",
            "Pepper__bell___Bacterial_spot       0.78      0.39      0.52       259\n",
            "       Pepper__bell___healthy       0.82      0.78      0.80       380\n",
            "        Potato___Early_blight       0.93      0.76      0.84       225\n",
            "         Potato___Late_blight       0.52      0.92      0.66       252\n",
            "             Potato___healthy       0.41      0.32      0.36        41\n",
            "\n",
            "                     accuracy                           0.70      1157\n",
            "                    macro avg       0.69      0.63      0.63      1157\n",
            "                 weighted avg       0.75      0.70      0.70      1157\n",
            "\n"
          ]
        }
      ]
    }
  ]
}